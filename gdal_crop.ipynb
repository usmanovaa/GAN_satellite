{
  "nbformat": 4,
  "nbformat_minor": 0,
  "metadata": {
    "colab": {
      "name": "gdal_crop.ipynb",
      "provenance": [],
      "collapsed_sections": [],
      "machine_shape": "hm"
    },
    "kernelspec": {
      "name": "python3",
      "display_name": "Python 3"
    }
  },
  "cells": [
    {
      "cell_type": "code",
      "metadata": {
        "id": "7--mh_kF08gW",
        "colab_type": "code",
        "colab": {}
      },
      "source": [
        "import gdal\n",
        "from gdalconst import *\n",
        "import pandas as pd\n",
        "import numpy\n",
        "from skimage import io as sk_io\n",
        "import matplotlib.pyplot as plt\n",
        "import skimage as sk"
      ],
      "execution_count": 1,
      "outputs": []
    },
    {
      "cell_type": "code",
      "metadata": {
        "id": "cGaK7Op-q-cR",
        "colab_type": "code",
        "colab": {
          "base_uri": "https://localhost:8080/",
          "height": 197
        },
        "outputId": "eb998884-5f65-4553-d37b-2c92a1d423ab"
      },
      "source": [
        "#images without railways\n",
        "data_not = pd.read_csv('/content/drive/My Drive/Aerocosmos/Codes/points2000.csv', sep =',')\n",
        "xValues = data_not['X'].values\n",
        "yValues = data_not['Y'].values\n",
        "data_not.head()"
      ],
      "execution_count": null,
      "outputs": [
        {
          "output_type": "execute_result",
          "data": {
            "text/html": [
              "<div>\n",
              "<style scoped>\n",
              "    .dataframe tbody tr th:only-of-type {\n",
              "        vertical-align: middle;\n",
              "    }\n",
              "\n",
              "    .dataframe tbody tr th {\n",
              "        vertical-align: top;\n",
              "    }\n",
              "\n",
              "    .dataframe thead th {\n",
              "        text-align: right;\n",
              "    }\n",
              "</style>\n",
              "<table border=\"1\" class=\"dataframe\">\n",
              "  <thead>\n",
              "    <tr style=\"text-align: right;\">\n",
              "      <th></th>\n",
              "      <th>X</th>\n",
              "      <th>Y</th>\n",
              "      <th>fid</th>\n",
              "      <th>id</th>\n",
              "    </tr>\n",
              "  </thead>\n",
              "  <tbody>\n",
              "    <tr>\n",
              "      <th>0</th>\n",
              "      <td>411984.905039</td>\n",
              "      <td>6.188025e+06</td>\n",
              "      <td>1</td>\n",
              "      <td>0</td>\n",
              "    </tr>\n",
              "    <tr>\n",
              "      <th>1</th>\n",
              "      <td>413458.110748</td>\n",
              "      <td>6.187456e+06</td>\n",
              "      <td>2</td>\n",
              "      <td>1</td>\n",
              "    </tr>\n",
              "    <tr>\n",
              "      <th>2</th>\n",
              "      <td>416196.101993</td>\n",
              "      <td>6.172188e+06</td>\n",
              "      <td>3</td>\n",
              "      <td>2</td>\n",
              "    </tr>\n",
              "    <tr>\n",
              "      <th>3</th>\n",
              "      <td>416366.147752</td>\n",
              "      <td>6.185219e+06</td>\n",
              "      <td>4</td>\n",
              "      <td>3</td>\n",
              "    </tr>\n",
              "    <tr>\n",
              "      <th>4</th>\n",
              "      <td>410948.727239</td>\n",
              "      <td>6.177526e+06</td>\n",
              "      <td>5</td>\n",
              "      <td>4</td>\n",
              "    </tr>\n",
              "  </tbody>\n",
              "</table>\n",
              "</div>"
            ],
            "text/plain": [
              "               X             Y  fid id\n",
              "0  411984.905039  6.188025e+06    1  0\n",
              "1  413458.110748  6.187456e+06    2  1\n",
              "2  416196.101993  6.172188e+06    3  2\n",
              "3  416366.147752  6.185219e+06    4  3\n",
              "4  410948.727239  6.177526e+06    5  4"
            ]
          },
          "metadata": {
            "tags": []
          },
          "execution_count": 68
        }
      ]
    },
    {
      "cell_type": "code",
      "metadata": {
        "id": "fNS_Dnst09kR",
        "colab_type": "code",
        "colab": {}
      },
      "source": [
        "#images with railways\n",
        "data = pd.read_csv('/content/drive/My Drive/Aerocosmos/Codes/points8000.csv', sep =',')\n",
        "xValues = data['x'].values\n",
        "yValues = data['y'].values"
      ],
      "execution_count": null,
      "outputs": []
    },
    {
      "cell_type": "code",
      "metadata": {
        "id": "CRSdFuai91_a",
        "colab_type": "code",
        "colab": {
          "base_uri": "https://localhost:8080/",
          "height": 285
        },
        "outputId": "7d388a4e-62e2-4638-c3c2-9998bd452a1e"
      },
      "source": [
        "#converting points from one coordinate system to another\n",
        "!pip install pyproj\n",
        "from pyproj import Proj, transform\n",
        "\n",
        "#inProj = Proj(init='epsg:4326')\n",
        "#outProj = Proj(init='epsg:32637')\n",
        "inProj = Proj(init='epsg:32637')\n",
        "outProj = Proj(init='epsg:3857')\n",
        "x1,y1 = xValues[100], yValues[100]\n",
        "x2,y2 = transform(inProj,outProj,x1,y1)\n",
        "print(x2,y2)\n",
        "\n",
        "#xValues, yValues = [], []\n",
        "\n",
        "#for i in range(xVal.size):\n",
        "#  x,y = transform(inProj,outProj,xVal[i],yVal[i])\n",
        "#  xValues.append(x)\n",
        "#  yValues.append(y)\n"
      ],
      "execution_count": null,
      "outputs": [
        {
          "output_type": "stream",
          "text": [
            "Collecting pyproj\n",
            "\u001b[?25l  Downloading https://files.pythonhosted.org/packages/ce/37/705ee471f71130d4ceee41bbcb06f3b52175cb89273cbb5755ed5e6374e0/pyproj-2.6.0-cp36-cp36m-manylinux2010_x86_64.whl (10.4MB)\n",
            "\u001b[K     |████████████████████████████████| 10.4MB 2.7MB/s \n",
            "\u001b[?25hInstalling collected packages: pyproj\n",
            "Successfully installed pyproj-2.6.0\n",
            "4190922.556399001 7518315.571139586\n"
          ],
          "name": "stdout"
        },
        {
          "output_type": "stream",
          "text": [
            "/usr/local/lib/python3.6/dist-packages/pyproj/crs/crs.py:53: FutureWarning: '+init=<authority>:<code>' syntax is deprecated. '<authority>:<code>' is the preferred initialization method. When making the change, be mindful of axis order changes: https://pyproj4.github.io/pyproj/stable/gotchas.html#axis-order-changes-in-proj-6\n",
            "  return _prepare_from_string(\" \".join(pjargs))\n",
            "/usr/local/lib/python3.6/dist-packages/pyproj/crs/crs.py:294: FutureWarning: '+init=<authority>:<code>' syntax is deprecated. '<authority>:<code>' is the preferred initialization method. When making the change, be mindful of axis order changes: https://pyproj4.github.io/pyproj/stable/gotchas.html#axis-order-changes-in-proj-6\n",
            "  projstring = _prepare_from_string(\" \".join((projstring, projkwargs)))\n",
            "/usr/local/lib/python3.6/dist-packages/pyproj/crs/crs.py:53: FutureWarning: '+init=<authority>:<code>' syntax is deprecated. '<authority>:<code>' is the preferred initialization method. When making the change, be mindful of axis order changes: https://pyproj4.github.io/pyproj/stable/gotchas.html#axis-order-changes-in-proj-6\n",
            "  return _prepare_from_string(\" \".join(pjargs))\n",
            "/usr/local/lib/python3.6/dist-packages/pyproj/crs/crs.py:294: FutureWarning: '+init=<authority>:<code>' syntax is deprecated. '<authority>:<code>' is the preferred initialization method. When making the change, be mindful of axis order changes: https://pyproj4.github.io/pyproj/stable/gotchas.html#axis-order-changes-in-proj-6\n",
            "  projstring = _prepare_from_string(\" \".join((projstring, projkwargs)))\n"
          ],
          "name": "stderr"
        }
      ]
    },
    {
      "cell_type": "code",
      "metadata": {
        "id": "zWUVLLlpRZSx",
        "colab_type": "code",
        "colab": {}
      },
      "source": [
        "gdal.AllRegister()\n",
        "ds = gdal.Open('/content/drive/My Drive/Aerocosmos/MUL_ACOMP.tif', GA_ReadOnly)\n",
        "if ds is None:\n",
        "  print('Could not open image')"
      ],
      "execution_count": null,
      "outputs": []
    },
    {
      "cell_type": "code",
      "metadata": {
        "id": "l_hstzdo2Z2G",
        "colab_type": "code",
        "colab": {}
      },
      "source": [
        "rows = ds.RasterYSize\n",
        "cols = ds.RasterXSize\n",
        "bands = ds.RasterCount\n",
        "\n",
        "transform = ds.GetGeoTransform()\n",
        "\n",
        "x0rigin = transform[0]\n",
        "y0rigin = transform[3]\n",
        "pixelWidth = transform[1]\n",
        "pixelHeight = transform[5]"
      ],
      "execution_count": null,
      "outputs": []
    },
    {
      "cell_type": "code",
      "metadata": {
        "id": "25AYvbth3TSp",
        "colab_type": "code",
        "colab": {}
      },
      "source": [
        "#finding the pixel for the corresponding pair of coordinates\n",
        "\n",
        "#!pip install pyproj\n",
        "'''import pyproj\n",
        "from pyproj import Proj, transform\n",
        "inProj = Proj(init='epsg:32637')\n",
        "outProj = Proj(init='epsg:3857')\n",
        "'''\n",
        "X_pixels = []\n",
        "Y_pixels = []\n",
        "\n",
        "for i in range(xValues.size):\n",
        "#for i in range(3):\n",
        "  x = xValues[i]\n",
        "  y = yValues[i]\n",
        "  #x,y = pyproj.transform(inProj,outProj,xValues[i],yValues[i])\n",
        "\n",
        "  xOffset = int((x-x0rigin) / pixelWidth)\n",
        "  yOffset = int((y-y0rigin) / pixelHeight)\n",
        "  \n",
        "  X_pixels.append(xOffset)\n",
        "  Y_pixels.append(yOffset)"
      ],
      "execution_count": null,
      "outputs": []
    },
    {
      "cell_type": "code",
      "metadata": {
        "id": "2mKqwsOnC8gJ",
        "colab_type": "code",
        "colab": {}
      },
      "source": [
        "#crop process\n",
        "size = (512, 512)\n",
        "\n",
        "def check_x(x):\n",
        "    if not (x<0 & x>cols):\n",
        "        return False\n",
        "    else:\n",
        "      return True\n",
        "\n",
        "def check_y(y):\n",
        "    return ((y<0)  and (y>rows))\n",
        "\n",
        "def cut(x,y, size):\n",
        "    x_left = x - int(size[0]/2)\n",
        "    x_right = x + int(size[0]/2)\n",
        "    y_down = y - int(size[1]/2)\n",
        "    y_up = y + int(size[1]/2) \n",
        "\n",
        "    if size[0] % 2 != 0 :\n",
        "        x_right+=1\n",
        "\n",
        "    if size[1] % 2 != 0 :\n",
        "        y_up+=1\n",
        "\n",
        "    if (check_x(x_left) & check_x(x_right) & check_y(y_down) & check_y(y_up)):\n",
        "        return 0\n",
        "\n",
        "    crop = ds.ReadAsArray(x_left, y_down, size[0], size[1])\n",
        "    \n",
        "    x0 = x_left * pixelWidth + x0rigin\n",
        "    y0 = y_down * pixelHeight + y0rigin\n",
        "\n",
        "    return crop, x0, y0"
      ],
      "execution_count": null,
      "outputs": []
    },
    {
      "cell_type": "code",
      "metadata": {
        "id": "vNU6LvkfWMOE",
        "colab_type": "code",
        "colab": {
          "base_uri": "https://localhost:8080/",
          "height": 240
        },
        "outputId": "20dea20f-29c4-4e8f-9303-c63d7d85ecdd"
      },
      "source": [
        "#save images\n",
        "k = 10001\n",
        "#for i in range(3):\n",
        "for i in range(len(X_pixels)):\n",
        "    cropped, x, y = cut(X_pixels[i], Y_pixels[i], size)\n",
        "      s = '/content/drive/My Drive/Aerocosmos/my_source/data/mul/mul_tif/' + str(k)[1:]+'.tif'\n",
        "      k+=1\n",
        "      format = \"GTiff\"\n",
        "      driver = gdal.GetDriverByName( format )\n",
        "      #dt = gdal.GDT_Byte\n",
        "      dt = gdal.GDT_UInt16\n",
        "      projection = ds.GetProjection()\n",
        "      transform_img = list(ds.GetGeoTransform())\n",
        "      transform_img[0] = x\n",
        "      transform_img[3] = y\n",
        "      outData = driver.Create(s, size[0], size[1], bands, dt )\n",
        "      outData.SetProjection( projection )\n",
        "      outData.SetGeoTransform( tuple(transform_img))\n",
        "      #outData.GetRasterBand(1).WriteArray( cropped )\n",
        "      for i in range( bands ):\n",
        "          outData.GetRasterBand( i + 1 ).WriteArray( cropped[ i ] )\n",
        "      outData = None\n",
        "    else:\n",
        "      kk.append(str(k)[1:])\n",
        "      k+=1"
      ],
      "execution_count": null,
      "outputs": [
        {
          "output_type": "error",
          "ename": "TypeError",
          "evalue": "ignored",
          "traceback": [
            "\u001b[0;31m---------------------------------------------------------------------------\u001b[0m",
            "\u001b[0;31mTypeError\u001b[0m                                 Traceback (most recent call last)",
            "\u001b[0;32m<ipython-input-73-80ada813f901>\u001b[0m in \u001b[0;36m<module>\u001b[0;34m()\u001b[0m\n\u001b[1;32m     22\u001b[0m       \u001b[0;31m#outData.GetRasterBand(1).WriteArray( cropped )\u001b[0m\u001b[0;34m\u001b[0m\u001b[0;34m\u001b[0m\u001b[0;34m\u001b[0m\u001b[0m\n\u001b[1;32m     23\u001b[0m       \u001b[0;32mfor\u001b[0m \u001b[0mi\u001b[0m \u001b[0;32min\u001b[0m \u001b[0mrange\u001b[0m\u001b[0;34m(\u001b[0m \u001b[0mbands\u001b[0m \u001b[0;34m)\u001b[0m\u001b[0;34m:\u001b[0m\u001b[0;34m\u001b[0m\u001b[0;34m\u001b[0m\u001b[0m\n\u001b[0;32m---> 24\u001b[0;31m           \u001b[0moutData\u001b[0m\u001b[0;34m.\u001b[0m\u001b[0mGetRasterBand\u001b[0m\u001b[0;34m(\u001b[0m \u001b[0mi\u001b[0m \u001b[0;34m+\u001b[0m \u001b[0;36m1\u001b[0m \u001b[0;34m)\u001b[0m\u001b[0;34m.\u001b[0m\u001b[0mWriteArray\u001b[0m\u001b[0;34m(\u001b[0m \u001b[0mcropped\u001b[0m\u001b[0;34m[\u001b[0m \u001b[0mi\u001b[0m \u001b[0;34m]\u001b[0m \u001b[0;34m)\u001b[0m\u001b[0;34m\u001b[0m\u001b[0;34m\u001b[0m\u001b[0m\n\u001b[0m\u001b[1;32m     25\u001b[0m       \u001b[0moutData\u001b[0m \u001b[0;34m=\u001b[0m \u001b[0;32mNone\u001b[0m\u001b[0;34m\u001b[0m\u001b[0;34m\u001b[0m\u001b[0m\n\u001b[1;32m     26\u001b[0m     \u001b[0;32melse\u001b[0m\u001b[0;34m:\u001b[0m\u001b[0;34m\u001b[0m\u001b[0;34m\u001b[0m\u001b[0m\n",
            "\u001b[0;31mTypeError\u001b[0m: 'NoneType' object is not subscriptable"
          ]
        }
      ]
    },
    {
      "cell_type": "code",
      "metadata": {
        "id": "QjZ_OENs9LF2",
        "colab_type": "code",
        "colab": {
          "base_uri": "https://localhost:8080/",
          "height": 34
        },
        "outputId": "ec17e6f8-521f-413b-9919-f4a434cbb637"
      },
      "source": [
        "#to check how many files in a directory\n",
        "import os\n",
        "\n",
        "def fcount(path):\n",
        "       \"\"\" Counts the number of files in a directory \"\"\"\n",
        "       count = 0\n",
        "       for f in os.listdir(path):\n",
        "           if os.path.isfile(os.path.join(path, f)):\n",
        "               count += 1\n",
        "\n",
        "       return count\n",
        "\n",
        "\n",
        "# The following line prints the number of files in the current directory:\n",
        "path = \"/content/drive/My Drive/Aerocosmos/data/mul512/\"\n",
        "print(fcount(path))"
      ],
      "execution_count": null,
      "outputs": [
        {
          "output_type": "stream",
          "text": [
            "9958\n"
          ],
          "name": "stdout"
        }
      ]
    }
  ]
}