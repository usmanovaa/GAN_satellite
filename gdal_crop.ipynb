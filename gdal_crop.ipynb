{
 "cells": [
  {
   "cell_type": "code",
   "execution_count": null,
   "metadata": {
    "colab": {},
    "colab_type": "code",
    "id": "7--mh_kF08gW"
   },
   "outputs": [],
   "source": [
    "import gdal\n",
    "from gdalconst import *\n",
    "import pandas as pd\n",
    "import numpy\n",
    "from skimage import io as sk_io\n",
    "import matplotlib.pyplot as plt\n",
    "import skimage as sk"
   ]
  },
  {
   "cell_type": "code",
   "execution_count": null,
   "metadata": {
    "colab": {
     "base_uri": "https://localhost:8080/",
     "height": 197
    },
    "colab_type": "code",
    "id": "cGaK7Op-q-cR",
    "outputId": "eb998884-5f65-4553-d37b-2c92a1d423ab"
   },
   "outputs": [],
   "source": [
    "#images without railways\n",
    "data_not = pd.read_csv('/content/drive/My Drive/Aerocosmos/Codes/points2000.csv', sep =',')\n",
    "xValues = data_not['X'].values\n",
    "yValues = data_not['Y'].values\n",
    "data_not.head()"
   ]
  },
  {
   "cell_type": "code",
   "execution_count": null,
   "metadata": {
    "colab": {},
    "colab_type": "code",
    "id": "fNS_Dnst09kR"
   },
   "outputs": [],
   "source": [
    "#images with railways\n",
    "data = pd.read_csv('/content/drive/My Drive/Aerocosmos/Codes/points8000.csv', sep =',')\n",
    "xValues = data['x'].values\n",
    "yValues = data['y'].values"
   ]
  },
  {
   "cell_type": "code",
   "execution_count": null,
   "metadata": {
    "colab": {
     "base_uri": "https://localhost:8080/",
     "height": 285
    },
    "colab_type": "code",
    "id": "CRSdFuai91_a",
    "outputId": "7d388a4e-62e2-4638-c3c2-9998bd452a1e"
   },
   "outputs": [],
   "source": [
    "#converting points from one coordinate system to another\n",
    "!pip install pyproj\n",
    "from pyproj import Proj, transform\n",
    "\n",
    "#inProj = Proj(init='epsg:4326')\n",
    "#outProj = Proj(init='epsg:32637')\n",
    "inProj = Proj(init='epsg:32637')\n",
    "outProj = Proj(init='epsg:3857')\n",
    "x1,y1 = xValues[100], yValues[100]\n",
    "x2,y2 = transform(inProj,outProj,x1,y1)\n",
    "print(x2,y2)\n",
    "\n",
    "#xValues, yValues = [], []\n",
    "\n",
    "#for i in range(xVal.size):\n",
    "#  x,y = transform(inProj,outProj,xVal[i],yVal[i])\n",
    "#  xValues.append(x)\n",
    "#  yValues.append(y)\n"
   ]
  },
  {
   "cell_type": "code",
   "execution_count": null,
   "metadata": {
    "colab": {},
    "colab_type": "code",
    "id": "zWUVLLlpRZSx"
   },
   "outputs": [],
   "source": [
    "gdal.AllRegister()\n",
    "ds = gdal.Open('/content/drive/My Drive/Aerocosmos/MUL_ACOMP.tif', GA_ReadOnly)\n",
    "if ds is None:\n",
    "  print('Could not open image')"
   ]
  },
  {
   "cell_type": "code",
   "execution_count": null,
   "metadata": {
    "colab": {},
    "colab_type": "code",
    "id": "l_hstzdo2Z2G"
   },
   "outputs": [],
   "source": [
    "rows = ds.RasterYSize\n",
    "cols = ds.RasterXSize\n",
    "bands = ds.RasterCount\n",
    "\n",
    "transform = ds.GetGeoTransform()\n",
    "\n",
    "x0rigin = transform[0]\n",
    "y0rigin = transform[3]\n",
    "pixelWidth = transform[1]\n",
    "pixelHeight = transform[5]"
   ]
  },
  {
   "cell_type": "code",
   "execution_count": null,
   "metadata": {
    "colab": {},
    "colab_type": "code",
    "id": "25AYvbth3TSp"
   },
   "outputs": [],
   "source": [
    "#finding the pixel for the corresponding pair of coordinates\n",
    "\n",
    "#!pip install pyproj\n",
    "'''import pyproj\n",
    "from pyproj import Proj, transform\n",
    "inProj = Proj(init='epsg:32637')\n",
    "outProj = Proj(init='epsg:3857')\n",
    "'''\n",
    "X_pixels = []\n",
    "Y_pixels = []\n",
    "\n",
    "for i in range(xValues.size):\n",
    "#for i in range(3):\n",
    "  x = xValues[i]\n",
    "  y = yValues[i]\n",
    "  #x,y = pyproj.transform(inProj,outProj,xValues[i],yValues[i])\n",
    "\n",
    "  xOffset = int((x-x0rigin) / pixelWidth)\n",
    "  yOffset = int((y-y0rigin) / pixelHeight)\n",
    "  \n",
    "  X_pixels.append(xOffset)\n",
    "  Y_pixels.append(yOffset)"
   ]
  },
  {
   "cell_type": "code",
   "execution_count": null,
   "metadata": {
    "colab": {},
    "colab_type": "code",
    "id": "2mKqwsOnC8gJ"
   },
   "outputs": [],
   "source": [
    "#crop process\n",
    "size = (512, 512)\n",
    "\n",
    "def check_x(x):\n",
    "    if not (x<0 & x>cols):\n",
    "        return False\n",
    "    else:\n",
    "      return True\n",
    "\n",
    "def check_y(y):\n",
    "    return ((y<0)  and (y>rows))\n",
    "\n",
    "def cut(x,y, size):\n",
    "    x_left = x - int(size[0]/2)\n",
    "    x_right = x + int(size[0]/2)\n",
    "    y_down = y - int(size[1]/2)\n",
    "    y_up = y + int(size[1]/2) \n",
    "\n",
    "    if size[0] % 2 != 0 :\n",
    "        x_right+=1\n",
    "\n",
    "    if size[1] % 2 != 0 :\n",
    "        y_up+=1\n",
    "\n",
    "    if (check_x(x_left) & check_x(x_right) & check_y(y_down) & check_y(y_up)):\n",
    "        return 0\n",
    "\n",
    "    crop = ds.ReadAsArray(x_left, y_down, size[0], size[1])\n",
    "    \n",
    "    x0 = x_left * pixelWidth + x0rigin\n",
    "    y0 = y_down * pixelHeight + y0rigin\n",
    "\n",
    "    return crop, x0, y0"
   ]
  },
  {
   "cell_type": "code",
   "execution_count": null,
   "metadata": {
    "colab": {
     "base_uri": "https://localhost:8080/",
     "height": 240
    },
    "colab_type": "code",
    "id": "vNU6LvkfWMOE",
    "outputId": "20dea20f-29c4-4e8f-9303-c63d7d85ecdd"
   },
   "outputs": [],
   "source": [
    "#save images\n",
    "k = 10001\n",
    "#for i in range(3):\n",
    "for i in range(len(X_pixels)):\n",
    "    cropped, x, y = cut(X_pixels[i], Y_pixels[i], size)\n",
    "      s = '/content/drive/My Drive/Aerocosmos/my_source/data/mul/mul_tif/' + str(k)[1:]+'.tif'\n",
    "      k+=1\n",
    "      format = \"GTiff\"\n",
    "      driver = gdal.GetDriverByName( format )\n",
    "      #dt = gdal.GDT_Byte\n",
    "      dt = gdal.GDT_UInt16\n",
    "      projection = ds.GetProjection()\n",
    "      transform_img = list(ds.GetGeoTransform())\n",
    "      transform_img[0] = x\n",
    "      transform_img[3] = y\n",
    "      outData = driver.Create(s, size[0], size[1], bands, dt )\n",
    "      outData.SetProjection( projection )\n",
    "      outData.SetGeoTransform( tuple(transform_img))\n",
    "      #outData.GetRasterBand(1).WriteArray( cropped )\n",
    "      for i in range( bands ):\n",
    "          outData.GetRasterBand( i + 1 ).WriteArray( cropped[ i ] )\n",
    "      outData = None\n",
    "    else:\n",
    "      kk.append(str(k)[1:])\n",
    "      k+=1"
   ]
  },
  {
   "cell_type": "code",
   "execution_count": null,
   "metadata": {
    "colab": {
     "base_uri": "https://localhost:8080/",
     "height": 34
    },
    "colab_type": "code",
    "id": "QjZ_OENs9LF2",
    "outputId": "ec17e6f8-521f-413b-9919-f4a434cbb637"
   },
   "outputs": [],
   "source": [
    "#to check how many files in a directory\n",
    "import os\n",
    "\n",
    "def fcount(path):\n",
    "       \"\"\" Counts the number of files in a directory \"\"\"\n",
    "       count = 0\n",
    "       for f in os.listdir(path):\n",
    "           if os.path.isfile(os.path.join(path, f)):\n",
    "               count += 1\n",
    "\n",
    "       return count\n",
    "\n",
    "\n",
    "# The following line prints the number of files in the current directory:\n",
    "path = \"/content/drive/My Drive/Aerocosmos/data/mul512/\"\n",
    "print(fcount(path))"
   ]
  }
 ],
 "metadata": {
  "colab": {
   "collapsed_sections": [],
   "machine_shape": "hm",
   "name": "gdal_crop.ipynb",
   "provenance": []
  },
  "kernelspec": {
   "display_name": "Python 3 (ipykernel)",
   "language": "python",
   "name": "python3"
  },
  "language_info": {
   "codemirror_mode": {
    "name": "ipython",
    "version": 3
   },
   "file_extension": ".py",
   "mimetype": "text/x-python",
   "name": "python",
   "nbconvert_exporter": "python",
   "pygments_lexer": "ipython3",
   "version": "3.9.12"
  }
 },
 "nbformat": 4,
 "nbformat_minor": 1
}
